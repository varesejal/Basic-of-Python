{
  "nbformat": 4,
  "nbformat_minor": 0,
  "metadata": {
    "colab": {
      "name": "Python_4 (3).ipynb",
      "provenance": [],
      "collapsed_sections": []
    },
    "kernelspec": {
      "name": "python3",
      "display_name": "Python 3"
    },
    "language_info": {
      "name": "python"
    }
  },
  "cells": [
    {
      "cell_type": "code",
      "execution_count": 1,
      "metadata": {
        "colab": {
          "base_uri": "https://localhost:8080/"
        },
        "id": "O_cXF-W29IRo",
        "outputId": "d54b3264-9308-4f86-a484-fbf1191c199e"
      },
      "outputs": [
        {
          "output_type": "stream",
          "name": "stdout",
          "text": [
            "['varesejal', 9181, 'TYBSC']\n",
            "['SP college', 'pune', 'tilak road']\n",
            "['varesejal', 9181, 'TYBSC', 'statistics']\n",
            "['varesejal', 9181, 'TYBSC', 'statistics', 1, 2, 3]\n",
            "['varesejal', 9181, 'TYBSC', 'statistics', 5, 1, 2, 3]\n",
            "['varesejal', 9181, 'TYBSC', 'statistics', 5, 1, 3]\n",
            "['varesejal', 9181, 'TYBSC', 5, 1, 3]\n",
            "['varesejal', 9181, 'TYBSC', 5]\n",
            "[3, 1, 5, 'TYBSC', 9181, 'varesejal']\n",
            "6\n",
            "[3, 1, 5, 'TYBSC', 9181, 'varesejal', 5]\n",
            "2\n",
            "[3, 1, 5, 'TYBSC', 9181, 'varesejal', 5, 'SP college', 'pune', 'tilak road']\n",
            "[3, 1, 5, 'TYBSC', 9181, 'varesejal', 5, 3, 1, 5, 'TYBSC', 9181, 'varesejal', 5]\n",
            "[]\n",
            "['SP college', 'pune', 'tilak road']\n",
            "['SP college', 'pune', 'tilak road', 'swargte']\n",
            "['SP college', 'pune', 'tilak road', 'swargte', 1, 2, 3]\n",
            "['SP college', 'pune', 'tilak road', 'swargte', 5, 1, 2, 3]\n",
            "['SP college', 'pune', 'tilak road', 'swargte', 5, 1, 3]\n",
            "['SP college', 'pune', 'tilak road', 5, 1, 3]\n",
            "[]\n",
            "[3, 1, 5, 'tilak road', 'pune', 'SP college']\n",
            "6\n",
            "[3, 1, 5, 'tilak road', 'pune', 'SP college', 5]\n",
            "2\n",
            "[3, 1, 5, 'tilak road', 'pune', 'SP college', 5]\n",
            "[3, 1, 5, 'tilak road', 'pune', 'SP college', 5, 3, 1, 5, 'tilak road', 'pune', 'SP college', 5]\n",
            "[]\n"
          ]
        }
      ],
      "source": [
        "A=[\"varesejal\",9181,\"TYBSC\"]\n",
        "B=[\"SP college\",\"pune\",\"tilak road\"]\n",
        "\n",
        "print(A)\n",
        "print(B)\n",
        "A.append(\"statistics\")\n",
        "print(A)\n",
        "A.extend([1,2,3])\n",
        "print(A)\n",
        "A.insert(4,5)\n",
        "print(A)\n",
        "A.remove(2)\n",
        "print(A)\n",
        "A.pop(3)\n",
        "print(A)\n",
        "print(A[:4])      #slice\n",
        "A.reverse()\n",
        "print(A)\n",
        "print(len(A))\n",
        "A.append(5)\n",
        "print(A)\n",
        "print(A.count(5))\n",
        "print(A+B)    #concatenate\n",
        "print(A*2)\n",
        "A.clear()\n",
        "print(A)\n",
        "\n",
        "\n",
        "\n",
        "print(B)\n",
        "B.append(\"swargte\")\n",
        "print(B)\n",
        "B.extend([1,2,3])\n",
        "print(B)\n",
        "B.insert(4,5)\n",
        "print(B)\n",
        "B.remove(2)\n",
        "print(B)\n",
        "B.pop(3)\n",
        "print(B)\n",
        "print(A[:4])      #slice\n",
        "B.reverse()\n",
        "print(B)\n",
        "print(len(B))\n",
        "B.append(5)\n",
        "print(B)\n",
        "print(B.count(5))\n",
        "print(A+B)    #concatenate\n",
        "print(B*2)\n",
        "B.clear()\n",
        "print(B)\n",
        "\n"
      ]
    },
    {
      "cell_type": "markdown",
      "source": [
        "name :- sejal vijay vare \n",
        "rollno :- 9181 \n"
      ],
      "metadata": {
        "id": "ILWerx3pXYa8"
      }
    },
    {
      "cell_type": "code",
      "source": [
        ""
      ],
      "metadata": {
        "id": "bn5HfFZBJOKB"
      },
      "execution_count": null,
      "outputs": []
    },
    {
      "cell_type": "code",
      "source": [
        "a=(\"varesejal\",9181,\"TYBSC\")\n",
        "b=(\"SP college\",\"pune\",\"tilak road\")\n",
        "\n",
        "print(a)\n",
        "print(b)\n",
        "print(type(a))\n",
        "print(type(b))\n",
        "print(a[2])\n",
        "print(a+b)\n",
        "print(a*3)\n",
        "print(9181 in a)\n",
        "print(5 in a)\n",
        "c=(a,b)\n",
        "print(c)\n",
        "print(a[1:])\n",
        "print(len(a))\n",
        "\n"
      ],
      "metadata": {
        "colab": {
          "base_uri": "https://localhost:8080/"
        },
        "id": "cMUCPAeFEoZx",
        "outputId": "4ff17731-c11d-4d53-b520-0f7d9fba4569"
      },
      "execution_count": null,
      "outputs": [
        {
          "output_type": "stream",
          "name": "stdout",
          "text": [
            "('varesejal', 9181, 'TYBSC')\n",
            "('SP college', 'pune', 'tilak road')\n",
            "<class 'tuple'>\n",
            "<class 'tuple'>\n",
            "TYBSC\n",
            "('varesejal', 9181, 'TYBSC', 'SP college', 'pune', 'tilak road')\n",
            "('varesejal', 9181, 'TYBSC', 'varesejal', 9181, 'TYBSC', 'varesejal', 9181, 'TYBSC')\n",
            "True\n",
            "False\n",
            "(('varesejal', 9181, 'TYBSC'), ('SP college', 'pune', 'tilak road'))\n",
            "(9181, 'TYBSC')\n",
            "3\n"
          ]
        }
      ]
    },
    {
      "cell_type": "code",
      "source": [
        ""
      ],
      "metadata": {
        "id": "921wWy6VEuDo"
      },
      "execution_count": null,
      "outputs": []
    },
    {
      "cell_type": "code",
      "source": [
        ""
      ],
      "metadata": {
        "id": "IRzgUnM7EuKt"
      },
      "execution_count": null,
      "outputs": []
    }
  ]
}