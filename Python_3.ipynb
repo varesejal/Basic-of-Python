{
  "nbformat": 4,
  "nbformat_minor": 0,
  "metadata": {
    "colab": {
      "name": "Python 3",
      "provenance": [],
      "collapsed_sections": []
    },
    "kernelspec": {
      "name": "python3",
      "display_name": "Python 3"
    },
    "language_info": {
      "name": "python"
    }
  },
  "cells": [
    {
      "cell_type": "code",
      "execution_count": null,
      "metadata": {
        "id": "xY7Q85QQcRsc"
      },
      "outputs": [],
      "source": [
        "#Name : Sejal Vare\n",
        "#Roll No. : 9181"
      ]
    },
    {
      "cell_type": "code",
      "source": [
        ""
      ],
      "metadata": {
        "id": "UNUWsC-Tcf_n"
      },
      "execution_count": null,
      "outputs": []
    },
    {
      "cell_type": "markdown",
      "source": [
        "Booleans Booleans represent one or two values : True or False\n"
      ],
      "metadata": {
        "id": "u3NOpl0icSv9"
      }
    },
    {
      "cell_type": "code",
      "source": [
        "print(15<14)\n",
        "print(15==14)\n",
        "print(15>14)\n"
      ],
      "metadata": {
        "colab": {
          "base_uri": "https://localhost:8080/"
        },
        "id": "ucBFtryDchFE",
        "outputId": "b3f367b8-5fd4-49ce-8878-23762e858381"
      },
      "execution_count": 2,
      "outputs": [
        {
          "output_type": "stream",
          "name": "stdout",
          "text": [
            "False\n",
            "False\n",
            "True\n"
          ]
        }
      ]
    },
    {
      "cell_type": "code",
      "source": [
        "print(bool(\"Myself Sejal\"))\n",
        "print(bool())"
      ],
      "metadata": {
        "colab": {
          "base_uri": "https://localhost:8080/"
        },
        "id": "fREPwlTYdADB",
        "outputId": "68bdeabb-62d3-44eb-b7bf-cff5e25aff61"
      },
      "execution_count": 1,
      "outputs": [
        {
          "output_type": "stream",
          "name": "stdout",
          "text": [
            "True\n",
            "False\n"
          ]
        }
      ]
    },
    {
      "cell_type": "code",
      "source": [
        "x='Sejal'\n",
        "y=13\n",
        "print(bool(x))\n",
        "print(bool(y))\n"
      ],
      "metadata": {
        "colab": {
          "base_uri": "https://localhost:8080/"
        },
        "id": "o9UaGw8BdjU-",
        "outputId": "1fe06fe1-2d37-4431-95a2-961795255e95"
      },
      "execution_count": 5,
      "outputs": [
        {
          "output_type": "stream",
          "name": "stdout",
          "text": [
            "True\n",
            "True\n"
          ]
        }
      ]
    },
    {
      "cell_type": "code",
      "source": [
        "print(bool(False))\n",
        "print(bool(None))\n",
        "print(bool(\"\"))\n",
        "print(bool(0))\n",
        "print(bool(()))\n",
        "print(bool({}))\n",
        "print(bool([]))"
      ],
      "metadata": {
        "colab": {
          "base_uri": "https://localhost:8080/"
        },
        "id": "FvDrdEC9d2uM",
        "outputId": "5f450ab7-9933-4b39-e69f-f7e8bcddc493"
      },
      "execution_count": 6,
      "outputs": [
        {
          "output_type": "stream",
          "name": "stdout",
          "text": [
            "False\n",
            "False\n",
            "False\n",
            "False\n",
            "False\n",
            "False\n",
            "False\n"
          ]
        }
      ]
    },
    {
      "cell_type": "code",
      "source": [
        "x,y=13,6\n",
        "print(x==y)\n",
        "print(x!=y)\n",
        "print(x>y)\n",
        "print(x<y)\n",
        "print(x>=y)\n",
        "print(x<=y)"
      ],
      "metadata": {
        "colab": {
          "base_uri": "https://localhost:8080/"
        },
        "id": "Kr7oOWzhenLN",
        "outputId": "a5a3dae1-adb3-4d41-d058-133649210d34"
      },
      "execution_count": 7,
      "outputs": [
        {
          "output_type": "stream",
          "name": "stdout",
          "text": [
            "False\n",
            "True\n",
            "True\n",
            "False\n",
            "True\n",
            "False\n"
          ]
        }
      ]
    },
    {
      "cell_type": "code",
      "source": [
        "x=6\n",
        "print(x<5 and x<10)\n",
        "print(x<5 or x<10)\n",
        "print(not(x>10))\n",
        "print(not(x<5 and x<10))\n"
      ],
      "metadata": {
        "colab": {
          "base_uri": "https://localhost:8080/"
        },
        "id": "DCFCl0fHfEpk",
        "outputId": "9babf68a-bdb2-4a5a-bc9a-15cb77eeca3e"
      },
      "execution_count": 8,
      "outputs": [
        {
          "output_type": "stream",
          "name": "stdout",
          "text": [
            "False\n",
            "True\n",
            "True\n",
            "True\n"
          ]
        }
      ]
    },
    {
      "cell_type": "code",
      "source": [
        "x,y = 6,13\n",
        "print(x is y)\n",
        "print(x is not y)\n",
        "\n"
      ],
      "metadata": {
        "colab": {
          "base_uri": "https://localhost:8080/"
        },
        "id": "UWqJg6hBf1Xf",
        "outputId": "79fa9f34-e50c-41df-c682-c3237cd4ad21"
      },
      "execution_count": 9,
      "outputs": [
        {
          "output_type": "stream",
          "name": "stdout",
          "text": [
            "False\n",
            "True\n"
          ]
        }
      ]
    },
    {
      "cell_type": "code",
      "source": [
        "x,y='hello','hello'\n",
        "print(x is y)\n",
        "print(x is not y)\n"
      ],
      "metadata": {
        "colab": {
          "base_uri": "https://localhost:8080/"
        },
        "id": "qtSWexLBgGzf",
        "outputId": "8e1f7c9f-fbc8-4587-b785-96696bf7975f"
      },
      "execution_count": 13,
      "outputs": [
        {
          "output_type": "stream",
          "name": "stdout",
          "text": [
            "True\n",
            "False\n"
          ]
        }
      ]
    },
    {
      "cell_type": "code",
      "source": [
        "x=\"Have a great day dear\"\n",
        "print(\"dear\" in x)\n",
        "print(\"great\" in x)\n",
        "print(\"good\" in x)"
      ],
      "metadata": {
        "colab": {
          "base_uri": "https://localhost:8080/"
        },
        "id": "naPR6aeigmT8",
        "outputId": "9766e1ec-d43c-4f90-f516-8b5387b87058"
      },
      "execution_count": 14,
      "outputs": [
        {
          "output_type": "stream",
          "name": "stdout",
          "text": [
            "True\n",
            "True\n",
            "False\n"
          ]
        }
      ]
    },
    {
      "cell_type": "code",
      "source": [
        "a=\"I like dancing\"\n",
        "print(a[-12:-7])\n",
        "print(a[6:15])"
      ],
      "metadata": {
        "colab": {
          "base_uri": "https://localhost:8080/"
        },
        "id": "q1lth4VQg89B",
        "outputId": "78f4fc9a-f29c-4de8-bce5-8bc4aea09d91"
      },
      "execution_count": 18,
      "outputs": [
        {
          "output_type": "stream",
          "name": "stdout",
          "text": [
            "like \n",
            " dancing\n"
          ]
        }
      ]
    }
  ]
}