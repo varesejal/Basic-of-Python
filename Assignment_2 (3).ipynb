{
  "nbformat": 4,
  "nbformat_minor": 0,
  "metadata": {
    "colab": {
      "name": "Assignment 2.ipynb",
      "provenance": [],
      "collapsed_sections": []
    },
    "kernelspec": {
      "name": "python3",
      "display_name": "Python 3"
    },
    "language_info": {
      "name": "python"
    }
  },
  "cells": [
    {
      "cell_type": "code",
      "execution_count": null,
      "metadata": {
        "colab": {
          "base_uri": "https://localhost:8080/"
        },
        "id": "5ZPxJ47jGWyf",
        "outputId": "b2ec3780-181d-4a0d-c01e-243bea016fee"
      },
      "outputs": [
        {
          "output_type": "stream",
          "name": "stdout",
          "text": [
            "The original string  is : \n",
            "Python\n",
            "The reversed string(using loops) is : \n",
            "nohtyP\n"
          ]
        }
      ],
      "source": [
        "## name:- Sejal Vijay Vare  Roll no:- 9181\n",
        "#### assignment :- 2\n",
        "\n",
        "\n",
        "\n",
        "##Q1 \n",
        "# using loop\n",
        "  \n",
        "def reverse(s):\n",
        "  str = \"\"\n",
        "  for i in s:\n",
        "    str = i + str\n",
        "  return str\n",
        "  \n",
        "s = \"Python\"\n",
        "  \n",
        "print (\"The original string  is : \",)\n",
        "print (s)\n",
        "  \n",
        "print (\"The reversed string(using loops) is : \",)\n",
        "print (reverse(s))"
      ]
    },
    {
      "cell_type": "code",
      "source": [
        ""
      ],
      "metadata": {
        "id": "M0ilygb4ss8-"
      },
      "execution_count": null,
      "outputs": []
    },
    {
      "cell_type": "code",
      "source": [
        "##Q2 B)\n",
        "### Minimum and Maximum using user defined function\n",
        "def minmax1 (x):\n",
        "    # this function fails if the list length is 0 \n",
        "    minimum = maximum = x[0]\n",
        "    for i in x[1:]:\n",
        "        if i < minimum: \n",
        "            minimum = i \n",
        "        else: \n",
        "            if i > maximum: maximum = i\n",
        "    return (minimum,maximum)\n",
        "\n",
        "print(minmax1([9,8,7,6,5,4,3,2,1,11,12,13,14,15,16,17,18,19]))\n",
        "print(minmax1([1]))\n",
        "print(minmax1([2, 0, 2, 7, 5, -1, -2]))"
      ],
      "metadata": {
        "colab": {
          "base_uri": "https://localhost:8080/"
        },
        "id": "8dMPiXxXGtQV",
        "outputId": "7e143e50-85ba-49f1-ca87-52b644692a9c"
      },
      "execution_count": null,
      "outputs": [
        {
          "output_type": "stream",
          "name": "stdout",
          "text": [
            "(1, 19)\n",
            "(1, 1)\n",
            "(-2, 7)\n"
          ]
        }
      ]
    },
    {
      "cell_type": "code",
      "source": [
        "##Q3\n",
        "# Python program to find sum of elements in list\n",
        "total = 0\n",
        " \n",
        "# creating a list\n",
        "list1 = [11, 5, 17, 18, 23]\n",
        " \n",
        "# Iterate each element in list\n",
        "# and add them in variable total\n",
        "for ele in range(0, len(list1)):\n",
        "    total = total + list1[ele]\n",
        " \n",
        "# printing total value\n",
        "print(\"Sum of all elements in given list: \", total)\n",
        "  "
      ],
      "metadata": {
        "colab": {
          "base_uri": "https://localhost:8080/"
        },
        "id": "zfFbqTHPJf63",
        "outputId": "bb07d71a-3f53-41c9-c9e1-baea804b870f"
      },
      "execution_count": null,
      "outputs": [
        {
          "output_type": "stream",
          "name": "stdout",
          "text": [
            "Sum of all elements in given list:  74\n"
          ]
        }
      ]
    },
    {
      "cell_type": "code",
      "source": [
        "##Q4\n",
        "\n",
        "# Python program to find number of\n",
        "# local variables in a function\n",
        "  \n",
        "# A function containing no variables \n",
        "def python():\n",
        "    pass\n",
        "  \n",
        "# A function containing 3 variables \n",
        "def fun():\n",
        "    a, b, c = 1, 2.25, 333\n",
        "    str = 'GeeksForGeeks'\n",
        "  \n",
        "# Driver program\n",
        "print(python.__code__.co_nlocals)\n",
        "print(fun.__code__.co_nlocals)"
      ],
      "metadata": {
        "id": "NgtOspK4KDmN",
        "colab": {
          "base_uri": "https://localhost:8080/"
        },
        "outputId": "ed7f6d49-e029-48ae-f6c9-a3b0a706922d"
      },
      "execution_count": null,
      "outputs": [
        {
          "output_type": "stream",
          "name": "stdout",
          "text": [
            "0\n",
            "4\n"
          ]
        }
      ]
    },
    {
      "cell_type": "code",
      "source": [
        "###Q5\n",
        "# Python program to print Even Numbers in a List\n",
        "list1 = [10, 21, 4, 45, 66, 93]\n",
        " \n",
        "for num in list1:\n",
        " \n",
        "    # checking condition\n",
        "    if num % 2 == 0:\n",
        "        print(num, end=\" \")"
      ],
      "metadata": {
        "colab": {
          "base_uri": "https://localhost:8080/"
        },
        "id": "5e4kgTYsK3WV",
        "outputId": "7df99d80-8b80-4bb6-8e21-e11dad7329fd"
      },
      "execution_count": null,
      "outputs": [
        {
          "output_type": "stream",
          "name": "stdout",
          "text": [
            "10 4 66 "
          ]
        }
      ]
    }
  ]
}